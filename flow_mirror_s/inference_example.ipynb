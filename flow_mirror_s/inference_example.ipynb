{
 "cells": [
  {
   "cell_type": "code",
   "execution_count": null,
   "metadata": {},
   "outputs": [],
   "source": [
    "from flow_mirror_model import FlowmirrorForConditionalGeneration\n",
    "from transformers import AutoTokenizer, AutoFeatureExtractor\n",
    "import soundfile as sf\n",
    "from IPython.display import display, Audio\n",
    "from hubert_kmeans import HubertCodeExtractor\n",
    "from time import time\n",
    "import torch\n",
    "\n",
    "device = \"cuda:0\" if torch.cuda.is_available() else \"cpu\"\n",
    "\n",
    "model = FlowmirrorForConditionalGeneration.from_pretrained(\"ckpt_path\")\n",
    "\n",
    "feature_extractor = AutoFeatureExtractor.from_pretrained(\"hubert_kmeans\")\n",
    "speaker_encoder = model.speaker_encoder\n",
    "audio_codec = model.audio_encoder\n",
    "tokenizer = AutoTokenizer.from_pretrained(\"ckpt_path/tokenizer\")\n",
    "\n",
    "code_extractor = HubertCodeExtractor(\n",
    "    ckpt_path=\"ckpt_path/chinese-hubert-ckpt-20250628.pt\",\n",
    "    km_path=\"hubert_kmeans/kmeans_500.pkl\",\n",
    "    layer=24,\n",
    "    rank=0\n",
    ")\n",
    "\n",
    "model.to(torch.float32)\n",
    "speaker_encoder.to(torch.float32)\n",
    "model.eval()\n",
    "model.to(device)\n"
   ]
  },
  {
   "cell_type": "code",
   "execution_count": null,
   "metadata": {},
   "outputs": [],
   "source": [
    "feats = code_extractor.get_feats(\"example_audio.wav\")\n",
    "codes = code_extractor.dump_label(feats)"
   ]
  },
  {
   "cell_type": "code",
   "execution_count": null,
   "metadata": {},
   "outputs": [],
   "source": [
    "def deduplicates(cluster_ids):\n",
    "    dup_cluster_list = []\n",
    "    count = 1\n",
    "    for i in range(0, len(cluster_ids)):\n",
    "        if i + 1 < len(cluster_ids) and cluster_ids[i] == cluster_ids[i+1]:\n",
    "            count += 1\n",
    "        else:\n",
    "            dup_cluster_list.append(cluster_ids[i])\n",
    "            count = 1\n",
    "    return dup_cluster_list"
   ]
  },
  {
   "cell_type": "code",
   "execution_count": null,
   "metadata": {},
   "outputs": [],
   "source": [
    "def convert_label_to_text(label):\n",
    "    text = \"\"\n",
    "    for i in label:\n",
    "        text += f\"<|audio_{i}|>\"\n",
    "    return text"
   ]
  },
  {
   "cell_type": "code",
   "execution_count": null,
   "metadata": {},
   "outputs": [],
   "source": [
    "codes = deduplicates(codes)\n",
    "label_text = convert_label_to_text(codes)"
   ]
  },
  {
   "cell_type": "code",
   "execution_count": null,
   "metadata": {},
   "outputs": [],
   "source": [
    "prompt = f\"<|spk_embed|><|startofaudio|>{label_text}<|endofaudio|><|startofcont|>\""
   ]
  },
  {
   "cell_type": "code",
   "execution_count": null,
   "metadata": {},
   "outputs": [],
   "source": [
    "input_ids = tokenizer(prompt, return_tensors=\"pt\").input_ids\n",
    "speaker_embedding = torch.load(\"hubert_kmeans/speaker_embedding.pt\")"
   ]
  },
  {
   "cell_type": "code",
   "execution_count": null,
   "metadata": {},
   "outputs": [],
   "source": [
    "gen_kwargs = {\n",
    "    \"do_sample\": True,\n",
    "    \"temperature\": 0.9,\n",
    "    \"max_new_tokens\": 512,\n",
    "    \"use_cache\": True,\n",
    "    \"min_new_tokens\": 9 + 1,\n",
    "}\n",
    "start = time()\n",
    "generation, text_completion = model.generate(prompt_input_ids=input_ids.to(device),speaker_embedding=speaker_embedding['speaker_embedding_2'].to(model.dtype).to(model.device), **gen_kwargs)\n",
    "end = time()\n",
    "last_spend_time = end - start\n",
    "print(\"Time taken: \", end - start)\n",
    "\n",
    "audio_arr = generation.float().cpu().numpy().squeeze()"
   ]
  },
  {
   "cell_type": "code",
   "execution_count": null,
   "metadata": {},
   "outputs": [],
   "source": [
    "tokenizer.decode(text_completion[0])"
   ]
  },
  {
   "cell_type": "code",
   "execution_count": null,
   "metadata": {},
   "outputs": [],
   "source": [
    "Audio(audio_arr, rate=16000)"
   ]
  }
 ],
 "metadata": {
  "kernelspec": {
   "display_name": "dac",
   "language": "python",
   "name": "python3"
  },
  "language_info": {
   "codemirror_mode": {
    "name": "ipython",
    "version": 3
   },
   "file_extension": ".py",
   "mimetype": "text/x-python",
   "name": "python",
   "nbconvert_exporter": "python",
   "pygments_lexer": "ipython3",
   "version": "3.10.13"
  }
 },
 "nbformat": 4,
 "nbformat_minor": 2
}
